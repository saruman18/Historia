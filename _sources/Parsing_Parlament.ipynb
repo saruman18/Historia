{
  "nbformat": 4,
  "nbformat_minor": 0,
  "metadata": {
    "colab": {
      "provenance": [],
      "authorship_tag": "ABX9TyOPt3jH+no254dcJ8bWw78T",
      "include_colab_link": true
    },
    "kernelspec": {
      "name": "python3",
      "display_name": "Python 3"
    },
    "language_info": {
      "name": "python"
    }
  },
  "cells": [
    {
      "cell_type": "markdown",
      "metadata": {
        "id": "view-in-github",
        "colab_type": "text"
      },
      "source": [
        "<a href=\"https://colab.research.google.com/github/saruman18/Historia/blob/main/Parsing_Parlament.ipynb\" target=\"_parent\"><img src=\"https://colab.research.google.com/assets/colab-badge.svg\" alt=\"Open In Colab\"/></a>"
      ]
    },
    {
      "cell_type": "code",
      "execution_count": 2,
      "metadata": {
        "colab": {
          "base_uri": "https://localhost:8080/"
        },
        "id": "vs9ID4dwaNYK",
        "outputId": "c645e099-4473-4007-a0b7-0ac087d44588"
      },
      "outputs": [
        {
          "output_type": "stream",
          "name": "stdout",
          "text": [
            "Element: teiHeader\n",
            "Text: \n",
            "    \n",
            "\n",
            "Element: text\n",
            "Text: \n",
            "    \n",
            "\n"
          ]
        }
      ],
      "source": [
        "import xml.etree.ElementTree as ET\n",
        "\n",
        "# Parse the XML file\n",
        "tree = ET.parse('/content/BT_01_003.xml')\n",
        "root = tree.getroot()\n",
        "\n",
        "# Access the XML data\n",
        "# For example, print the tag name and text content of each element\n",
        "for element in root:\n",
        "    print(\"Element:\", element.tag)\n",
        "    print(\"Text:\", element.text)\n",
        "    print(\"\")"
      ]
    },
    {
      "cell_type": "code",
      "source": [
        "for child in root:\n",
        "    # Access data from the child element\n",
        "    print(\"Element:\", child.tag)\n",
        "    print(\"Text:\", child.text)\n",
        "    print(\"Attributes:\", child.attrib)\n",
        "    print(\"\")"
      ],
      "metadata": {
        "colab": {
          "base_uri": "https://localhost:8080/"
        },
        "id": "tQzh3tHvaXoe",
        "outputId": "8115841b-c8a9-425a-8046-0e1fcdeb4e48"
      },
      "execution_count": 3,
      "outputs": [
        {
          "output_type": "stream",
          "name": "stdout",
          "text": [
            "Element: teiHeader\n",
            "Text: \n",
            "    \n",
            "Attributes: {}\n",
            "\n",
            "Element: text\n",
            "Text: \n",
            "    \n",
            "Attributes: {}\n",
            "\n"
          ]
        }
      ]
    },
    {
      "cell_type": "code",
      "source": [
        "import csv\n",
        "import xml.etree.ElementTree as ET\n",
        "\n",
        "# Parse the XML file\n",
        "tree = ET.parse('/content/BT_01_003.xml')\n",
        "root = tree.getroot()\n",
        "\n",
        "# Extract the header row\n",
        "header = []\n",
        "for element in root[0]:\n",
        "    header.append(element.tag)\n",
        "\n",
        "# Create a CSV file and write the header\n",
        "with open('output.csv', 'w', newline='') as csvfile:\n",
        "    writer = csv.writer(csvfile)\n",
        "    writer.writerow(header)\n",
        "    for row in root:\n",
        "        data_row = []\n",
        "        for element in row:\n",
        "            data_row.append(element.text)\n",
        "        writer.writerow(data_row)\n",
        "\n",
        "print(\"Conversion completed. CSV file created.\")\n"
      ],
      "metadata": {
        "colab": {
          "base_uri": "https://localhost:8080/"
        },
        "id": "BoXNomDVa0yx",
        "outputId": "56741b58-e5f1-4b2b-8bbb-c83f64266dcc"
      },
      "execution_count": 4,
      "outputs": [
        {
          "output_type": "stream",
          "name": "stdout",
          "text": [
            "Conversion completed. CSV file created.\n"
          ]
        }
      ]
    },
    {
      "cell_type": "code",
      "source": [
        "print(\"Root element:\", root.tag)\n",
        "\n",
        "for child in root:\n",
        "    print(\"Child element:\", child.tag)"
      ],
      "metadata": {
        "colab": {
          "base_uri": "https://localhost:8080/"
        },
        "id": "HYEhmt0JbCvT",
        "outputId": "28d97833-95a9-4438-de44-e7aeeebe16ae"
      },
      "execution_count": 5,
      "outputs": [
        {
          "output_type": "stream",
          "name": "stdout",
          "text": [
            "Root element: TEI\n",
            "Child element: teiHeader\n",
            "Child element: text\n"
          ]
        }
      ]
    },
    {
      "cell_type": "code",
      "source": [
        "child.text"
      ],
      "metadata": {
        "colab": {
          "base_uri": "https://localhost:8080/",
          "height": 35
        },
        "id": "0mGFHBXBbe30",
        "outputId": "fde23268-c94b-469c-e98c-9dc33d159a6f"
      },
      "execution_count": 6,
      "outputs": [
        {
          "output_type": "execute_result",
          "data": {
            "text/plain": [
              "'\\n    '"
            ],
            "application/vnd.google.colaboratory.intrinsic+json": {
              "type": "string"
            }
          },
          "metadata": {},
          "execution_count": 6
        }
      ]
    },
    {
      "cell_type": "code",
      "source": [
        "# Parse the XML file\n",
        "tree = ET.parse('/content/BT_01_003.xml')\n",
        "root = tree.getroot()\n",
        "\n",
        "# Iterate over the XML elements\n",
        "for div in root.iter('div'):\n",
        "    if div.attrib.get('type') == 'agenda_item':\n",
        "        # Process the segmented data here\n",
        "        print(\"Agenda Item:\")\n",
        "        print(\"  Number:\", div.attrib.get('n'))\n",
        "        print(\"  What:\", div.attrib.get('what'))\n",
        "        print(\"  Description:\", div.attrib.get('desc'))\n",
        "        print(\"\")\n",
        "\n",
        "        # Example: Accessing nested elements within the <div> tag\n",
        "        speaker = div.find('sp/speaker')\n",
        "        if speaker is not None:\n",
        "            print(\"Speaker:\", speaker.text)\n",
        "        print(\"\")\n",
        "\n",
        "        party = div.find('sp/party')\n",
        "        if party is not None:\n",
        "          print('Party:', party.text)\n",
        "          print(\"\")\n"
      ],
      "metadata": {
        "colab": {
          "base_uri": "https://localhost:8080/"
        },
        "id": "yxV3809fb0OL",
        "outputId": "cfe148ee-93e7-48af-de31-922e3400211f"
      },
      "execution_count": 8,
      "outputs": [
        {
          "output_type": "stream",
          "name": "stdout",
          "text": [
            "Agenda Item:\n",
            "  Number: 2\n",
            "  What: election\n",
            "  Description: Wahl des Bundeskanzlers\n",
            "\n",
            "Speaker: Präsident Dr. Köhler:\n",
            "\n"
          ]
        }
      ]
    },
    {
      "cell_type": "code",
      "source": [],
      "metadata": {
        "id": "J4pSToBWcvg0"
      },
      "execution_count": null,
      "outputs": []
    }
  ]
}