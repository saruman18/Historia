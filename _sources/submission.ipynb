{
  "nbformat": 4,
  "nbformat_minor": 0,
  "metadata": {
    "colab": {
      "name": "submission.ipynb",
      "provenance": [],
      "include_colab_link": true
    },
    "kernelspec": {
      "name": "python3",
      "display_name": "Python 3"
    },
    "language_info": {
      "name": "python"
    }
  },
  "cells": [
    {
      "cell_type": "markdown",
      "metadata": {
        "id": "view-in-github",
        "colab_type": "text"
      },
      "source": [
        "<a href=\"https://colab.research.google.com/github/saruman18/Historia/blob/main/submission.ipynb\" target=\"_parent\"><img src=\"https://colab.research.google.com/assets/colab-badge.svg\" alt=\"Open In Colab\"/></a>"
      ]
    },
    {
      "cell_type": "code",
      "metadata": {
        "id": "oR3e4g1xmboV"
      },
      "source": [
        "import numpy as np\n",
        "import os\n",
        "\n",
        "def estimate_rf(st, sp, num_window):\n",
        " \n",
        "..."
      ],
      "execution_count": null,
      "outputs": []
    },
    {
      "cell_type": "code",
      "metadata": {
        "id": "Hp8wSpXyON2R"
      },
      "source": [
        "def estimate_nl(st, sp, rf, K):\n",
        "  \n",
        "..."
      ],
      "execution_count": null,
      "outputs": []
    },
    {
      "cell_type": "code",
      "metadata": {
        "id": "F_pI1rAiixD6"
      },
      "source": [
        "def generate_spikes(N,rate,duration):\n",
        "poisson_spike = rate/1000\n",
        "   spikes = np.random.rand(N,duration)\n",
        "   spikes.astype(int)\n",
        "   return spikes "
      ],
      "execution_count": null,
      "outputs": []
    },
    {
      "cell_type": "code",
      "metadata": {
        "id": "5HhGXyQOoDpq"
      },
      "source": [
        "def mle_fr(spikes):\n",
        "    \n",
        "  num_spikes = np.sum(spikes, axis = 1)\n",
        "  total_spikes = np.sum(num_spikes)\n",
        "  duration = spikes.shape[1]\n",
        "  rate = total_spikes/duration\n",
        "  return rate\n",
        "\n",
        "  spikes =  generate_spikes(2,50, 500)\n",
        "firing = mle_fr(spikes)\n",
        "print(firing)\n",
        "#Part three asigment A\n",
        "N = 2\n",
        "rate = 50\n",
        "duration = 500\n",
        "num_samples = 1000\n",
        "spikes = [generate_spikes(N,rate, duration) for i in range(num_samples)]\n",
        "firing = [mle_fr(st) for st in mle_fr]\n",
        "\n",
        "plt.hist(firing, bins = 30)\n",
        "plt.xlabe('Firign rate HZ')\n",
        "plt.ylabel('Count')\n",
        "plt.title('Firing rates estimates')\n",
        "plt.show()\n",
        "mean = np.mean(firing)\n",
        "variance = np.var(firing)"
      ],
      "execution_count": null,
      "outputs": []
    }
  ]
}