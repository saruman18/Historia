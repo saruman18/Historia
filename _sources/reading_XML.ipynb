{
  "nbformat": 4,
  "nbformat_minor": 0,
  "metadata": {
    "colab": {
      "provenance": [],
      "authorship_tag": "ABX9TyOnFbqnfY14Leqn41e6Aabg",
      "include_colab_link": true
    },
    "kernelspec": {
      "name": "python3",
      "display_name": "Python 3"
    },
    "language_info": {
      "name": "python"
    }
  },
  "cells": [
    {
      "cell_type": "markdown",
      "metadata": {
        "id": "view-in-github",
        "colab_type": "text"
      },
      "source": [
        "<a href=\"https://colab.research.google.com/github/saruman18/Historia/blob/main/reading_XML.ipynb\" target=\"_parent\"><img src=\"https://colab.research.google.com/assets/colab-badge.svg\" alt=\"Open In Colab\"/></a>"
      ]
    },
    {
      "cell_type": "code",
      "execution_count": 1,
      "metadata": {
        "colab": {
          "base_uri": "https://localhost:8080/"
        },
        "id": "vs9ID4dwaNYK",
        "outputId": "24729e2a-8ab9-436e-cda9-c58941c0a046"
      },
      "outputs": [
        {
          "output_type": "stream",
          "name": "stdout",
          "text": [
            "Element: teiHeader\n",
            "Text: \n",
            "    \n",
            "\n",
            "Element: text\n",
            "Text: \n",
            "    \n",
            "\n"
          ]
        }
      ],
      "source": [
        "import xml.etree.ElementTree as ET\n",
        "\n",
        "# Parse the XML file\n",
        "tree = ET.parse('/content/BT_01_003.xml')\n",
        "root = tree.getroot()\n",
        "\n",
        "# Access the XML data\n",
        "# For example, print the tag name and text content of each element\n",
        "for element in root:\n",
        "    print(\"Element:\", element.tag)\n",
        "    print(\"Text:\", element.text)\n",
        "    print(\"\")"
      ]
    },
    {
      "cell_type": "code",
      "source": [
        "for child in root:\n",
        "    # Access data from the child element\n",
        "    print(\"Element:\", child.tag)\n",
        "    print(\"Text:\", child.text)\n",
        "    print(\"Attributes:\", child.attrib)\n",
        "    print(\"\")"
      ],
      "metadata": {
        "colab": {
          "base_uri": "https://localhost:8080/"
        },
        "id": "tQzh3tHvaXoe",
        "outputId": "c1924517-3ae4-4f42-977a-9505c37f4c72"
      },
      "execution_count": 2,
      "outputs": [
        {
          "output_type": "stream",
          "name": "stdout",
          "text": [
            "Element: teiHeader\n",
            "Text: \n",
            "    \n",
            "Attributes: {}\n",
            "\n",
            "Element: text\n",
            "Text: \n",
            "    \n",
            "Attributes: {}\n",
            "\n"
          ]
        }
      ]
    },
    {
      "cell_type": "code",
      "source": [
        "import csv\n",
        "import xml.etree.ElementTree as ET\n",
        "\n",
        "# Parse the XML file\n",
        "tree = ET.parse('/content/BT_01_003.xml')\n",
        "root = tree.getroot()\n",
        "\n",
        "# Extract the header row\n",
        "header = []\n",
        "for element in root[0]:\n",
        "    header.append(element.tag)\n",
        "\n",
        "# Create a CSV file and write the header\n",
        "with open('output.csv', 'w', newline='') as csvfile:\n",
        "    writer = csv.writer(csvfile)\n",
        "    writer.writerow(header)\n",
        "    for row in root:\n",
        "        data_row = []\n",
        "        for element in row:\n",
        "            data_row.append(element.text)\n",
        "        writer.writerow(data_row)\n",
        "\n",
        "print(\"Conversion completed. CSV file created.\")\n"
      ],
      "metadata": {
        "colab": {
          "base_uri": "https://localhost:8080/"
        },
        "id": "BoXNomDVa0yx",
        "outputId": "46f5695b-637f-4f16-ff0b-77e0c84deebb"
      },
      "execution_count": 3,
      "outputs": [
        {
          "output_type": "stream",
          "name": "stdout",
          "text": [
            "Conversion completed. CSV file created.\n"
          ]
        }
      ]
    },
    {
      "cell_type": "code",
      "source": [
        "print(\"Root element:\", root.tag)\n",
        "\n",
        "for child in root:\n",
        "    print(\"Child element:\", child.tag)"
      ],
      "metadata": {
        "colab": {
          "base_uri": "https://localhost:8080/"
        },
        "id": "HYEhmt0JbCvT",
        "outputId": "993b15d1-a675-48e0-8dfc-fef6ea324fb8"
      },
      "execution_count": 4,
      "outputs": [
        {
          "output_type": "stream",
          "name": "stdout",
          "text": [
            "Root element: TEI\n",
            "Child element: teiHeader\n",
            "Child element: text\n"
          ]
        }
      ]
    },
    {
      "cell_type": "code",
      "source": [
        "child.text"
      ],
      "metadata": {
        "colab": {
          "base_uri": "https://localhost:8080/",
          "height": 35
        },
        "id": "0mGFHBXBbe30",
        "outputId": "fde23268-c94b-469c-e98c-9dc33d159a6f"
      },
      "execution_count": null,
      "outputs": [
        {
          "output_type": "execute_result",
          "data": {
            "text/plain": [
              "'\\n    '"
            ],
            "application/vnd.google.colaboratory.intrinsic+json": {
              "type": "string"
            }
          },
          "metadata": {},
          "execution_count": 6
        }
      ]
    },
    {
      "cell_type": "code",
      "source": [
        "# Parse the XML file\n",
        "tree = ET.parse('/content/BT_01_003.xml')\n",
        "root = tree.getroot()\n",
        "\n",
        "# Iterate over the XML elements\n",
        "for div in root.iter('div'):\n",
        "    if div.attrib.get('type') == 'agenda_item':\n",
        "        # Process the segmented data here\n",
        "        print(\"Agenda Item:\")\n",
        "        print(\"  Number:\", div.attrib.get('n'))\n",
        "        print(\"  What:\", div.attrib.get('what'))\n",
        "        print(\"  Description:\", div.attrib.get('desc'))\n",
        "        print(\"\")\n",
        "\n",
        "        # Example: Accessing nested elements within the <div> tag\n",
        "        speaker = div.find('sp/speaker')\n",
        "        if speaker is not None:\n",
        "            print(\"Speaker:\", speaker.text)\n",
        "        print(\"\")\n",
        "\n",
        "        party = div.find('sp/party')\n",
        "        if party is not None:\n",
        "          print('Party:', party.text)\n",
        "          print(\"\")\n"
      ],
      "metadata": {
        "colab": {
          "base_uri": "https://localhost:8080/"
        },
        "id": "yxV3809fb0OL",
        "outputId": "f9ccb072-0c7e-4e2e-b0b8-e65fc1101b79"
      },
      "execution_count": 5,
      "outputs": [
        {
          "output_type": "stream",
          "name": "stdout",
          "text": [
            "Agenda Item:\n",
            "  Number: 2\n",
            "  What: election\n",
            "  Description: Wahl des Bundeskanzlers\n",
            "\n",
            "Speaker: Präsident Dr. Köhler:\n",
            "\n"
          ]
        }
      ]
    },
    {
      "cell_type": "code",
      "source": [
        "for div in root.iter('div'):\n",
        "    if div.attrib.get('type') == 'agenda_item':\n",
        "        sp = div.find('sp')\n",
        "        if sp is not None:\n",
        "            party_type = sp.attrib.get('party')\n",
        "            if party_type:\n",
        "                print(\"Party Type:\", party_type)"
      ],
      "metadata": {
        "colab": {
          "base_uri": "https://localhost:8080/"
        },
        "id": "J4pSToBWcvg0",
        "outputId": "e334c821-f0ae-4732-9d82-4584de7a8f22"
      },
      "execution_count": 6,
      "outputs": [
        {
          "output_type": "stream",
          "name": "stdout",
          "text": [
            "Party Type: CDU\n"
          ]
        }
      ]
    },
    {
      "cell_type": "code",
      "source": [
        "import os\n",
        "import pandas as pd\n",
        "import xml.etree.ElementTree as ET\n",
        "data = {}\n",
        "\n",
        "for filename in os.listdir(xml_directory):\n",
        "    if filename.endswith('.xml'):\n",
        "        file_path = os.path.join(xml_directory, filename)\n",
        "        tree = ET.parse(file_path)\n",
        "        root = tree.getroot()\n",
        "    for element in root.iter():\n",
        "            tag_name = element.tag\n",
        "\n",
        "            # Store the tag value in the corresponding list\n",
        "            if tag_name in data:\n",
        "                data[tag_name].append(element.text)\n",
        "            else:\n",
        "                data[tag_name] = [element.text]\n",
        "\n",
        "# Create a dataframe from the dictionary\n",
        "df = pd.DataFrame(data)\n",
        "\n",
        "# Print the resulting dataframe\n",
        "print(df)\n",
        "\n"
      ],
      "metadata": {
        "id": "LS0JmX1te2gL",
        "colab": {
          "base_uri": "https://localhost:8080/",
          "height": 292
        },
        "outputId": "f07b5825-16f1-4d68-82d6-f27819cb11f1"
      },
      "execution_count": 13,
      "outputs": [
        {
          "output_type": "stream",
          "name": "stdout",
          "text": [
            "encodingDesc\n",
            "\n",
            "      \n"
          ]
        },
        {
          "output_type": "error",
          "ename": "IndexError",
          "evalue": "ignored",
          "traceback": [
            "\u001b[0;31m---------------------------------------------------------------------------\u001b[0m",
            "\u001b[0;31mIndexError\u001b[0m                                Traceback (most recent call last)",
            "\u001b[0;32m<ipython-input-13-de305d9ae1d3>\u001b[0m in \u001b[0;36m<cell line: 1>\u001b[0;34m()\u001b[0m\n\u001b[1;32m      3\u001b[0m \u001b[0;34m\u001b[0m\u001b[0m\n\u001b[1;32m      4\u001b[0m     \u001b[0;32mfor\u001b[0m \u001b[0mrow\u001b[0m \u001b[0;32min\u001b[0m \u001b[0mcsv_reader\u001b[0m\u001b[0;34m:\u001b[0m\u001b[0;34m\u001b[0m\u001b[0;34m\u001b[0m\u001b[0m\n\u001b[0;32m----> 5\u001b[0;31m         \u001b[0mtext_value\u001b[0m \u001b[0;34m=\u001b[0m \u001b[0mrow\u001b[0m\u001b[0;34m[\u001b[0m\u001b[0;36m1\u001b[0m\u001b[0;34m]\u001b[0m  \u001b[0;31m# Accessing the third column (index 2)\u001b[0m\u001b[0;34m\u001b[0m\u001b[0;34m\u001b[0m\u001b[0m\n\u001b[0m\u001b[1;32m      6\u001b[0m         \u001b[0mprint\u001b[0m\u001b[0;34m(\u001b[0m\u001b[0mtext_value\u001b[0m\u001b[0;34m)\u001b[0m\u001b[0;34m\u001b[0m\u001b[0;34m\u001b[0m\u001b[0m\n\u001b[1;32m      7\u001b[0m \u001b[0;34m\u001b[0m\u001b[0m\n",
            "\u001b[0;31mIndexError\u001b[0m: list index out of range"
          ]
        }
      ]
    },
    {
      "cell_type": "code",
      "source": [
        "import pandas as pd\n",
        "import xml.etree.ElementTree as ET\n",
        "\n",
        "# Path to your XML file\n",
        "xml_file = '/content/BT_01_003.xml'\n",
        "\n",
        "# Initialize an empty dictionary to store the tag values\n",
        "data = {}\n",
        "\n",
        "# Parse the XML file\n",
        "tree = ET.parse(xml_file)\n",
        "root = tree.getroot()\n",
        "\n",
        "# Iterate through each tag in the XML file\n",
        "for element in root.iter():\n",
        "    tag_name = element.tag\n",
        "\n",
        "    # Store the tag value in the corresponding list\n",
        "    if tag_name in data:\n",
        "        data[tag_name].append(element.text)\n",
        "    else:\n",
        "        data[tag_name] = [element.text]\n",
        "\n",
        "# Create a dataframe from the dictionary\n",
        "df = pd.DataFrame(data)\n",
        "\n",
        "# Print the resulting dataframe\n",
        "print(df)\n"
      ],
      "metadata": {
        "colab": {
          "base_uri": "https://localhost:8080/",
          "height": 387
        },
        "id": "piIww6FLgKjF",
        "outputId": "dfe43734-196f-4552-ab23-21dc3c2cc237"
      },
      "execution_count": 15,
      "outputs": [
        {
          "output_type": "error",
          "ename": "ValueError",
          "evalue": "ignored",
          "traceback": [
            "\u001b[0;31m---------------------------------------------------------------------------\u001b[0m",
            "\u001b[0;31mValueError\u001b[0m                                Traceback (most recent call last)",
            "\u001b[0;32m<ipython-input-15-7cb1af6e4c25>\u001b[0m in \u001b[0;36m<cell line: 25>\u001b[0;34m()\u001b[0m\n\u001b[1;32m     23\u001b[0m \u001b[0;34m\u001b[0m\u001b[0m\n\u001b[1;32m     24\u001b[0m \u001b[0;31m# Create a dataframe from the dictionary\u001b[0m\u001b[0;34m\u001b[0m\u001b[0;34m\u001b[0m\u001b[0m\n\u001b[0;32m---> 25\u001b[0;31m \u001b[0mdf\u001b[0m \u001b[0;34m=\u001b[0m \u001b[0mpd\u001b[0m\u001b[0;34m.\u001b[0m\u001b[0mDataFrame\u001b[0m\u001b[0;34m(\u001b[0m\u001b[0mdata\u001b[0m\u001b[0;34m)\u001b[0m\u001b[0;34m\u001b[0m\u001b[0;34m\u001b[0m\u001b[0m\n\u001b[0m\u001b[1;32m     26\u001b[0m \u001b[0;34m\u001b[0m\u001b[0m\n\u001b[1;32m     27\u001b[0m \u001b[0;31m# Print the resulting dataframe\u001b[0m\u001b[0;34m\u001b[0m\u001b[0;34m\u001b[0m\u001b[0m\n",
            "\u001b[0;32m/usr/local/lib/python3.10/dist-packages/pandas/core/frame.py\u001b[0m in \u001b[0;36m__init__\u001b[0;34m(self, data, index, columns, dtype, copy)\u001b[0m\n\u001b[1;32m    662\u001b[0m         \u001b[0;32melif\u001b[0m \u001b[0misinstance\u001b[0m\u001b[0;34m(\u001b[0m\u001b[0mdata\u001b[0m\u001b[0;34m,\u001b[0m \u001b[0mdict\u001b[0m\u001b[0;34m)\u001b[0m\u001b[0;34m:\u001b[0m\u001b[0;34m\u001b[0m\u001b[0;34m\u001b[0m\u001b[0m\n\u001b[1;32m    663\u001b[0m             \u001b[0;31m# GH#38939 de facto copy defaults to False only in non-dict cases\u001b[0m\u001b[0;34m\u001b[0m\u001b[0;34m\u001b[0m\u001b[0m\n\u001b[0;32m--> 664\u001b[0;31m             \u001b[0mmgr\u001b[0m \u001b[0;34m=\u001b[0m \u001b[0mdict_to_mgr\u001b[0m\u001b[0;34m(\u001b[0m\u001b[0mdata\u001b[0m\u001b[0;34m,\u001b[0m \u001b[0mindex\u001b[0m\u001b[0;34m,\u001b[0m \u001b[0mcolumns\u001b[0m\u001b[0;34m,\u001b[0m \u001b[0mdtype\u001b[0m\u001b[0;34m=\u001b[0m\u001b[0mdtype\u001b[0m\u001b[0;34m,\u001b[0m \u001b[0mcopy\u001b[0m\u001b[0;34m=\u001b[0m\u001b[0mcopy\u001b[0m\u001b[0;34m,\u001b[0m \u001b[0mtyp\u001b[0m\u001b[0;34m=\u001b[0m\u001b[0mmanager\u001b[0m\u001b[0;34m)\u001b[0m\u001b[0;34m\u001b[0m\u001b[0;34m\u001b[0m\u001b[0m\n\u001b[0m\u001b[1;32m    665\u001b[0m         \u001b[0;32melif\u001b[0m \u001b[0misinstance\u001b[0m\u001b[0;34m(\u001b[0m\u001b[0mdata\u001b[0m\u001b[0;34m,\u001b[0m \u001b[0mma\u001b[0m\u001b[0;34m.\u001b[0m\u001b[0mMaskedArray\u001b[0m\u001b[0;34m)\u001b[0m\u001b[0;34m:\u001b[0m\u001b[0;34m\u001b[0m\u001b[0;34m\u001b[0m\u001b[0m\n\u001b[1;32m    666\u001b[0m             \u001b[0;32mimport\u001b[0m \u001b[0mnumpy\u001b[0m\u001b[0;34m.\u001b[0m\u001b[0mma\u001b[0m\u001b[0;34m.\u001b[0m\u001b[0mmrecords\u001b[0m \u001b[0;32mas\u001b[0m \u001b[0mmrecords\u001b[0m\u001b[0;34m\u001b[0m\u001b[0;34m\u001b[0m\u001b[0m\n",
            "\u001b[0;32m/usr/local/lib/python3.10/dist-packages/pandas/core/internals/construction.py\u001b[0m in \u001b[0;36mdict_to_mgr\u001b[0;34m(data, index, columns, dtype, typ, copy)\u001b[0m\n\u001b[1;32m    491\u001b[0m             \u001b[0marrays\u001b[0m \u001b[0;34m=\u001b[0m \u001b[0;34m[\u001b[0m\u001b[0mx\u001b[0m\u001b[0;34m.\u001b[0m\u001b[0mcopy\u001b[0m\u001b[0;34m(\u001b[0m\u001b[0;34m)\u001b[0m \u001b[0;32mif\u001b[0m \u001b[0mhasattr\u001b[0m\u001b[0;34m(\u001b[0m\u001b[0mx\u001b[0m\u001b[0;34m,\u001b[0m \u001b[0;34m\"dtype\"\u001b[0m\u001b[0;34m)\u001b[0m \u001b[0;32melse\u001b[0m \u001b[0mx\u001b[0m \u001b[0;32mfor\u001b[0m \u001b[0mx\u001b[0m \u001b[0;32min\u001b[0m \u001b[0marrays\u001b[0m\u001b[0;34m]\u001b[0m\u001b[0;34m\u001b[0m\u001b[0;34m\u001b[0m\u001b[0m\n\u001b[1;32m    492\u001b[0m \u001b[0;34m\u001b[0m\u001b[0m\n\u001b[0;32m--> 493\u001b[0;31m     \u001b[0;32mreturn\u001b[0m \u001b[0marrays_to_mgr\u001b[0m\u001b[0;34m(\u001b[0m\u001b[0marrays\u001b[0m\u001b[0;34m,\u001b[0m \u001b[0mcolumns\u001b[0m\u001b[0;34m,\u001b[0m \u001b[0mindex\u001b[0m\u001b[0;34m,\u001b[0m \u001b[0mdtype\u001b[0m\u001b[0;34m=\u001b[0m\u001b[0mdtype\u001b[0m\u001b[0;34m,\u001b[0m \u001b[0mtyp\u001b[0m\u001b[0;34m=\u001b[0m\u001b[0mtyp\u001b[0m\u001b[0;34m,\u001b[0m \u001b[0mconsolidate\u001b[0m\u001b[0;34m=\u001b[0m\u001b[0mcopy\u001b[0m\u001b[0;34m)\u001b[0m\u001b[0;34m\u001b[0m\u001b[0;34m\u001b[0m\u001b[0m\n\u001b[0m\u001b[1;32m    494\u001b[0m \u001b[0;34m\u001b[0m\u001b[0m\n\u001b[1;32m    495\u001b[0m \u001b[0;34m\u001b[0m\u001b[0m\n",
            "\u001b[0;32m/usr/local/lib/python3.10/dist-packages/pandas/core/internals/construction.py\u001b[0m in \u001b[0;36marrays_to_mgr\u001b[0;34m(arrays, columns, index, dtype, verify_integrity, typ, consolidate)\u001b[0m\n\u001b[1;32m    116\u001b[0m         \u001b[0;31m# figure out the index, if necessary\u001b[0m\u001b[0;34m\u001b[0m\u001b[0;34m\u001b[0m\u001b[0m\n\u001b[1;32m    117\u001b[0m         \u001b[0;32mif\u001b[0m \u001b[0mindex\u001b[0m \u001b[0;32mis\u001b[0m \u001b[0;32mNone\u001b[0m\u001b[0;34m:\u001b[0m\u001b[0;34m\u001b[0m\u001b[0;34m\u001b[0m\u001b[0m\n\u001b[0;32m--> 118\u001b[0;31m             \u001b[0mindex\u001b[0m \u001b[0;34m=\u001b[0m \u001b[0m_extract_index\u001b[0m\u001b[0;34m(\u001b[0m\u001b[0marrays\u001b[0m\u001b[0;34m)\u001b[0m\u001b[0;34m\u001b[0m\u001b[0;34m\u001b[0m\u001b[0m\n\u001b[0m\u001b[1;32m    119\u001b[0m         \u001b[0;32melse\u001b[0m\u001b[0;34m:\u001b[0m\u001b[0;34m\u001b[0m\u001b[0;34m\u001b[0m\u001b[0m\n\u001b[1;32m    120\u001b[0m             \u001b[0mindex\u001b[0m \u001b[0;34m=\u001b[0m \u001b[0mensure_index\u001b[0m\u001b[0;34m(\u001b[0m\u001b[0mindex\u001b[0m\u001b[0;34m)\u001b[0m\u001b[0;34m\u001b[0m\u001b[0;34m\u001b[0m\u001b[0m\n",
            "\u001b[0;32m/usr/local/lib/python3.10/dist-packages/pandas/core/internals/construction.py\u001b[0m in \u001b[0;36m_extract_index\u001b[0;34m(data)\u001b[0m\n\u001b[1;32m    664\u001b[0m             \u001b[0mlengths\u001b[0m \u001b[0;34m=\u001b[0m \u001b[0mlist\u001b[0m\u001b[0;34m(\u001b[0m\u001b[0mset\u001b[0m\u001b[0;34m(\u001b[0m\u001b[0mraw_lengths\u001b[0m\u001b[0;34m)\u001b[0m\u001b[0;34m)\u001b[0m\u001b[0;34m\u001b[0m\u001b[0;34m\u001b[0m\u001b[0m\n\u001b[1;32m    665\u001b[0m             \u001b[0;32mif\u001b[0m \u001b[0mlen\u001b[0m\u001b[0;34m(\u001b[0m\u001b[0mlengths\u001b[0m\u001b[0;34m)\u001b[0m \u001b[0;34m>\u001b[0m \u001b[0;36m1\u001b[0m\u001b[0;34m:\u001b[0m\u001b[0;34m\u001b[0m\u001b[0;34m\u001b[0m\u001b[0m\n\u001b[0;32m--> 666\u001b[0;31m                 \u001b[0;32mraise\u001b[0m \u001b[0mValueError\u001b[0m\u001b[0;34m(\u001b[0m\u001b[0;34m\"All arrays must be of the same length\"\u001b[0m\u001b[0;34m)\u001b[0m\u001b[0;34m\u001b[0m\u001b[0;34m\u001b[0m\u001b[0m\n\u001b[0m\u001b[1;32m    667\u001b[0m \u001b[0;34m\u001b[0m\u001b[0m\n\u001b[1;32m    668\u001b[0m             \u001b[0;32mif\u001b[0m \u001b[0mhave_dicts\u001b[0m\u001b[0;34m:\u001b[0m\u001b[0;34m\u001b[0m\u001b[0;34m\u001b[0m\u001b[0m\n",
            "\u001b[0;31mValueError\u001b[0m: All arrays must be of the same length"
          ]
        }
      ]
    },
    {
      "cell_type": "code",
      "source": [
        "import pandas as pd\n",
        "import xml.etree.ElementTree as ET\n",
        "\n",
        "# Path to your XML file\n",
        "xml_file = '/content/BT_01_003.xml'\n",
        "\n",
        "# Initialize an empty dictionary to store the tag values\n",
        "data = {}\n",
        "\n",
        "# Parse the XML file\n",
        "tree = ET.parse(xml_file)\n",
        "root = tree.getroot()\n",
        "\n",
        "# Iterate through each tag in the XML file\n",
        "for element in root.iter():\n",
        "    tag_name = element.tag\n",
        "\n",
        "    # Store the tag value in the corresponding list\n",
        "    if tag_name in data:\n",
        "        data[tag_name].append(element.text)\n",
        "    else:\n",
        "        data[tag_name] = [element.text]\n",
        "\n",
        "# Find the maximum length among the arrays\n",
        "max_length = max(len(value) for value in data.values())\n",
        "\n",
        "# Fill missing values with None to make arrays of equal length\n",
        "for key, value in data.items():\n",
        "    if len(value) < max_length:\n",
        "        data[key].extend([None] * (max_length - len(value)))\n",
        "\n",
        "# Create a dataframe from the dictionary\n",
        "df = pd.DataFrame(data)\n",
        "\n",
        "# Print the resulting dataframe\n",
        "print(df)\n"
      ],
      "metadata": {
        "colab": {
          "base_uri": "https://localhost:8080/"
        },
        "id": "NBU0cwj6lavj",
        "outputId": "ff3f72b4-69e8-48ab-871e-51ad4697b6d6"
      },
      "execution_count": 16,
      "outputs": [
        {
          "output_type": "stream",
          "name": "stdout",
          "text": [
            "     TEI teiHeader  fileDesc   titleStmt            title legislativePeriod  \\\n",
            "0   \\n      \\n      \\n        \\n          Plenarprotokoll                 1   \n",
            "1   None      None      None        None             None              None   \n",
            "2   None      None      None        None             None              None   \n",
            "3   None      None      None        None             None              None   \n",
            "4   None      None      None        None             None              None   \n",
            "5   None      None      None        None             None              None   \n",
            "6   None      None      None        None             None              None   \n",
            "7   None      None      None        None             None              None   \n",
            "8   None      None      None        None             None              None   \n",
            "9   None      None      None        None             None              None   \n",
            "10  None      None      None        None             None              None   \n",
            "11  None      None      None        None             None              None   \n",
            "12  None      None      None        None             None              None   \n",
            "13  None      None      None        None             None              None   \n",
            "14  None      None      None        None             None              None   \n",
            "15  None      None      None        None             None              None   \n",
            "16  None      None      None        None             None              None   \n",
            "17  None      None      None        None             None              None   \n",
            "\n",
            "   sessionNo editionStmt       edition package  ... editorialDecl profileDesc  \\\n",
            "0          3  \\n          \\n            frappp  ...          None        None   \n",
            "1       None        None          None    None  ...          None        None   \n",
            "2       None        None          None    None  ...          None        None   \n",
            "3       None        None          None    None  ...          None        None   \n",
            "4       None        None          None    None  ...          None        None   \n",
            "5       None        None          None    None  ...          None        None   \n",
            "6       None        None          None    None  ...          None        None   \n",
            "7       None        None          None    None  ...          None        None   \n",
            "8       None        None          None    None  ...          None        None   \n",
            "9       None        None          None    None  ...          None        None   \n",
            "10      None        None          None    None  ...          None        None   \n",
            "11      None        None          None    None  ...          None        None   \n",
            "12      None        None          None    None  ...          None        None   \n",
            "13      None        None          None    None  ...          None        None   \n",
            "14      None        None          None    None  ...          None        None   \n",
            "15      None        None          None    None  ...          None        None   \n",
            "16      None        None          None    None  ...          None        None   \n",
            "17      None        None          None    None  ...          None        None   \n",
            "\n",
            "   revisionDesc    text      body         div            sp  \\\n",
            "0          None  \\n      \\n        \\n          \\n             \n",
            "1          None    None      None        None  \\n             \n",
            "2          None    None      None        None  \\n             \n",
            "3          None    None      None        None          None   \n",
            "4          None    None      None        None          None   \n",
            "5          None    None      None        None          None   \n",
            "6          None    None      None        None          None   \n",
            "7          None    None      None        None          None   \n",
            "8          None    None      None        None          None   \n",
            "9          None    None      None        None          None   \n",
            "10         None    None      None        None          None   \n",
            "11         None    None      None        None          None   \n",
            "12         None    None      None        None          None   \n",
            "13         None    None      None        None          None   \n",
            "14         None    None      None        None          None   \n",
            "15         None    None      None        None          None   \n",
            "16         None    None      None        None          None   \n",
            "17         None    None      None        None          None   \n",
            "\n",
            "                  speaker                                                  p  \\\n",
            "0   Präsident Dr. Köhler:  Meine Damen und Herren! Ich eröffne die 3. Sit...   \n",
            "1     Dr. Adenauer (CDU):                                      Mitteilungen.   \n",
            "2   Präsident Dr. Köhler:  Es fehlen heute wegen Erkrankung oder sonst en...   \n",
            "3                    None  Da gemäß Artikel 55 des Grundgesetzes der Bund...   \n",
            "4                    None  Die Abgeordneten Dr. Franz Richter, Dr. Herwar...   \n",
            "5                    None  Meine Damen und Herren! Wir kommen nunmehr zu ...   \n",
            "6                    None                           Wahl des Bundeskanzlers.   \n",
            "7                    None  Ehe wir zur Wahl schreiten, darf ich auf die e...   \n",
            "8                    None  Ich schlage den Abgeordneten Dr. Konrad Adenau...   \n",
            "9                    None  Meine Damen und Herren! Ich frage, ob alle anw...   \n",
            "10                   None               — Bitte, geben Sie Ihre Stimme ab! —   \n",
            "11                   None  Weitere Einsprüche werden nicht angemeldet. Da...   \n",
            "12                   None  Ich berufe zur weiteren Hilfe den Schriftführe...   \n",
            "13                   None  Meine Damen und Herren, ich möchte das Ergebni...   \n",
            "14                   None  — Ich höre keinen Widerspruch. Dann darf ich d...   \n",
            "15                   None  Meine Damen und Herren! Ich habe den Herrn Abg...   \n",
            "16                   None                                                Ja.   \n",
            "17                   None  Der Herr Abgeordnete Dr. Adenauer hat erklärt,...   \n",
            "\n",
            "                                                stage  \n",
            "0                            (Heiterkeit und Zurufe.)  \n",
            "1                                     (Namensaufruf.)  \n",
            "2                           (Abg. Frau Hütter: Nein!)  \n",
            "3                      (Das Ergebnis wird ermittelt.)  \n",
            "4   (Die Ermittlung des Ergebnisses wird fortgeset...  \n",
            "5                                          (Ja-Rufe.)  \n",
            "6                           (Lachen links. — Zurufe.)  \n",
            "7            (Schluß der Sitzung: 11 Uhr 53 Minuten.)  \n",
            "8                                                None  \n",
            "9                                                None  \n",
            "10                                               None  \n",
            "11                                               None  \n",
            "12                                               None  \n",
            "13                                               None  \n",
            "14                                               None  \n",
            "15                                               None  \n",
            "16                                               None  \n",
            "17                                               None  \n",
            "\n",
            "[18 rows x 32 columns]\n"
          ]
        }
      ]
    },
    {
      "cell_type": "code",
      "source": [
        "import pandas as pd\n",
        "import xml.etree.ElementTree as ET\n",
        "\n",
        "# Path to your XML file\n",
        "xml_file = '/content/BT_01_003.xml'\n",
        "\n",
        "# Initialize empty lists for each tag\n",
        "speakers = []\n",
        "parties = []\n",
        "agenda_items = []\n",
        "numbers = []\n",
        "whats = []\n",
        "descriptions = []\n",
        "\n",
        "# Parse the XML file\n",
        "tree = ET.parse(xml_file)\n",
        "root = tree.getroot()\n",
        "\n",
        "# Find the <AgendaItem> elements in the XML file\n",
        "agenda_item_elements = root.findall('.//AgendaItem')\n",
        "\n",
        "# Iterate through each <AgendaItem> element\n",
        "for agenda_item_element in agenda_item_elements:\n",
        "    # Find Speaker and Party tags within the <AgendaItem> element\n",
        "    speaker_element = agenda_item_element.find('Speaker')\n",
        "    party_element = agenda_item_element.find('Party')\n",
        "\n",
        "    # Find Number, What, and Description tags within the <AgendaItem> element\n",
        "    number_element = agenda_item_element.find('Number')\n",
        "    what_element = agenda_item_element.find('What')\n",
        "    description_element = agenda_item_element.find('Description')\n",
        "\n",
        "    # Append the tag values to the respective lists\n",
        "    speakers.append(speaker_element.text if speaker_element is not None else None)\n",
        "    parties.append(party_element.text if party_element is not None else None)\n",
        "    agenda_items.append(agenda_item_element.text if agenda_item_element is not None else None)\n",
        "    numbers.append(number_element.text if number_element is not None else None)\n",
        "    whats.append(what_element.text if what_element is not None else None)\n",
        "    descriptions.append(description_element.text if description_element is not None else None)\n",
        "\n",
        "# Create a dataframe from the lists\n",
        "data = {\n",
        "    'Speaker': speakers,\n",
        "    'Party': parties,\n",
        "    'AgendaItem': agenda_items,\n",
        "    'Number': numbers,\n",
        "    'What': whats,\n",
        "    'Description': descriptions\n",
        "}\n",
        "df = pd.DataFrame(data)\n",
        "\n",
        "# Print the resulting dataframe\n",
        "print(df)\n"
      ],
      "metadata": {
        "colab": {
          "base_uri": "https://localhost:8080/"
        },
        "id": "Qa-uARcLl4S_",
        "outputId": "94d31dd6-0db1-46b2-9dbb-25b25d611a0c"
      },
      "execution_count": 18,
      "outputs": [
        {
          "output_type": "stream",
          "name": "stdout",
          "text": [
            "Empty DataFrame\n",
            "Columns: [Speaker, Party, AgendaItem, Number, What, Description]\n",
            "Index: []\n"
          ]
        }
      ]
    },
    {
      "cell_type": "code",
      "source": [
        "import pandas as pd\n",
        "import xml.etree.ElementTree as ET\n",
        "\n",
        "# Path to your XML file\n",
        "xml_file = '/content/BT_01_003.xml'\n",
        "\n",
        "# Initialize empty lists for each tag\n",
        "agenda_items = []\n",
        "numbers = []\n",
        "whats = []\n",
        "descriptions = []\n",
        "speakers = []\n",
        "parties = []\n",
        "\n",
        "# Parse the XML file\n",
        "tree = ET.parse(xml_file)\n",
        "root = tree.getroot()\n",
        "\n",
        "# Iterate over the XML elements\n",
        "for div in root.iter('div'):\n",
        "    if div.attrib.get('type') == 'agenda_item':\n",
        "        agenda_items.append(\"Agenda Item\")\n",
        "        numbers.append(div.attrib.get('n'))\n",
        "        whats.append(div.attrib.get('what'))\n",
        "        descriptions.append(div.attrib.get('desc'))\n",
        "\n",
        "        # Example: Accessing nested elements within the <div> tag\n",
        "        speaker = div.find('sp/speaker')\n",
        "        if speaker is not None:\n",
        "            speakers.append(speaker.text)\n",
        "        else:\n",
        "            speakers.append(None)\n",
        "\n",
        "        party = div.find('sp/party')\n",
        "        if party is not None:\n",
        "            parties.append(party.text)\n",
        "        else:\n",
        "            parties.append(None)\n",
        "\n",
        "# Create a dataframe from the lists\n",
        "data = {\n",
        "    'AgendaItem': agenda_items,\n",
        "    'Number': numbers,\n",
        "    'What': whats,\n",
        "    'Description': descriptions,\n",
        "    'Speaker': speakers,\n",
        "    'Party': parties\n",
        "}\n",
        "df = pd.DataFrame(data)\n",
        "\n",
        "# Print the resulting dataframe\n",
        "print(df)\n"
      ],
      "metadata": {
        "colab": {
          "base_uri": "https://localhost:8080/"
        },
        "id": "rSXR4okjoTMr",
        "outputId": "01666be1-af38-4fd5-a261-a08d7d2fd514"
      },
      "execution_count": 19,
      "outputs": [
        {
          "output_type": "stream",
          "name": "stdout",
          "text": [
            "    AgendaItem Number      What              Description  \\\n",
            "0  Agenda Item      2  election  Wahl des Bundeskanzlers   \n",
            "\n",
            "                 Speaker Party  \n",
            "0  Präsident Dr. Köhler:  None  \n"
          ]
        }
      ]
    },
    {
      "cell_type": "code",
      "source": [],
      "metadata": {
        "id": "E3FPaB2Qo_gV"
      },
      "execution_count": null,
      "outputs": []
    }
  ]
}